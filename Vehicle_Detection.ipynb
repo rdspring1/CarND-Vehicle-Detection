{
 "cells": [
  {
   "cell_type": "code",
   "execution_count": null,
   "metadata": {
    "collapsed": false
   },
   "outputs": [],
   "source": [
    "import os\n",
    "import time\n",
    "import cv2\n",
    "import numpy as np\n",
    "import feature_extraction as fe\n",
    "import heatmap as hm\n",
    "import util"
   ]
  },
  {
   "cell_type": "markdown",
   "metadata": {},
   "source": [
    "### Image Location"
   ]
  },
  {
   "cell_type": "code",
   "execution_count": null,
   "metadata": {
    "collapsed": false
   },
   "outputs": [],
   "source": [
    "car_directories = ['vehicles/GTI_Far/',\n",
    "                   'vehicles/GTI_Left/',\n",
    "                   'vehicles/GTI_Right/',\n",
    "                   'vehicles/GTI_MiddleClose/',\n",
    "                   'vehicles/KITTI/']\n",
    "noncar_directories = ['non-vehicles/GTI/', 'non-vehicles/Extras/']\n",
    "\n",
    "cars = [os.listdir(car_directory) for car_directory in car_directories]\n",
    "non_vehicles = [os.listdir(noncar_directory) for noncar_directory in noncar_directories]"
   ]
  },
  {
   "cell_type": "markdown",
   "metadata": {},
   "source": [
    "### Settings"
   ]
  },
  {
   "cell_type": "code",
   "execution_count": null,
   "metadata": {
    "collapsed": false
   },
   "outputs": [],
   "source": [
    "orient = 9  # HOG orientations\n",
    "pix_per_cell = 8 # HOG pixels per cell\n",
    "cell_per_block = 2 # HOG cells per block\n",
    "hog_channel = \"ALL\" # Can be 0, 1, 2, or \"ALL\"\n",
    "spatial_size = (32, 32) # Spatial binning dimensions\n",
    "hist_bins = 32    # Number of histogram bins\n",
    "ystart = 400\n",
    "ystop = 656\n",
    "scale = 1.5\n",
    "img_shape = (720, 1280, 3)\n",
    "heatmap = hm.BoundingBox(img_shape)"
   ]
  },
  {
   "cell_type": "markdown",
   "metadata": {},
   "source": [
    "### Extract Car and Non-Car Features"
   ]
  },
  {
   "cell_type": "code",
   "execution_count": null,
   "metadata": {
    "collapsed": false
   },
   "outputs": [],
   "source": [
    "car_features = []\n",
    "for car_list, car_directory in zip(cars, car_directories):\n",
    "    local_car_features = fe.extract_features(car_directory, car_list, \n",
    "                        spatial_size=spatial_size, hist_bins=hist_bins, \n",
    "                        orient=orient, pix_per_cell=pix_per_cell, \n",
    "                        cell_per_block=cell_per_block, \n",
    "                        hog_channel=hog_channel)\n",
    "    car_features.extend(local_car_features)\n",
    "\n",
    "noncar_features = []\n",
    "for noncar_list, noncar_directory in zip(non_vehicles, noncar_directories):\n",
    "    local_noncar_features = fe.extract_features(noncar_directory, noncar_list, \n",
    "                        spatial_size=spatial_size, hist_bins=hist_bins, \n",
    "                        orient=orient, pix_per_cell=pix_per_cell, \n",
    "                        cell_per_block=cell_per_block, \n",
    "                        hog_channel=hog_channel)\n",
    "    noncar_features.extend(local_noncar_features)"
   ]
  },
  {
   "cell_type": "markdown",
   "metadata": {},
   "source": [
    "### Train Support Vector Machine"
   ]
  },
  {
   "cell_type": "code",
   "execution_count": null,
   "metadata": {
    "collapsed": false
   },
   "outputs": [],
   "source": [
    "from sklearn.svm import LinearSVC\n",
    "from sklearn.preprocessing import StandardScaler\n",
    "from sklearn.cross_validation import train_test_split\n",
    "\n",
    "X = np.vstack((car_features, noncar_features)).astype(np.float64)\n",
    "\n",
    "# Fit a per-column scaler\n",
    "X_scaler = StandardScaler().fit(X)\n",
    "# Apply the scaler to X\n",
    "scaled_X = X_scaler.transform(X)\n",
    "\n",
    "# Define the labels vector\n",
    "y = np.hstack((np.ones(len(car_features)), np.zeros(len(noncar_features))))\n",
    "\n",
    "# Split up data into randomized training and test sets\n",
    "rand_state = np.random.randint(0, 100)\n",
    "X_train, X_test, y_train, y_test = train_test_split(scaled_X, y, test_size=0.2, random_state=rand_state)\n",
    "\n",
    "print('Using:',orient,'orientations',pix_per_cell, 'pixels per cell and', cell_per_block,'cells per block')\n",
    "print('Feature vector length:', len(X_train[0]))\n",
    "\n",
    "# Use a linear SVC \n",
    "svc = LinearSVC()\n",
    "\n",
    "# Check the training time for the SVC\n",
    "startTime=time.time()\n",
    "svc.fit(X_train, y_train)\n",
    "endTime = time.time()\n",
    "print(\"Training Time: \", round(endTime-startTime, 2))\n",
    "# Check the score of the SVC\n",
    "print(\"Test Accuracy: \", round(svc.score(X_test, y_test), 4))"
   ]
  },
  {
   "cell_type": "code",
   "execution_count": null,
   "metadata": {
    "collapsed": true
   },
   "outputs": [],
   "source": [
    "def process_image(image):\n",
    "    local_image = cv2.cvtColor(image, cv2.COLOR_RGB2BGR)\n",
    "    on_windows = fe.search_windows(local_image, ystart, ystop, scale, svc, X_scaler, \n",
    "                    spatial_size, hist_bins, \n",
    "                    orient, pix_per_cell, cell_per_block)\n",
    "    \n",
    "    heatmap.add_heat(on_windows)\n",
    "    return heatmap.draw_labeled_bboxes(image)"
   ]
  },
  {
   "cell_type": "markdown",
   "metadata": {},
   "source": [
    "### Test Images"
   ]
  },
  {
   "cell_type": "code",
   "execution_count": null,
   "metadata": {
    "collapsed": false
   },
   "outputs": [],
   "source": [
    "import matplotlib.pyplot as plt\n",
    "from matplotlib.ticker import NullFormatter\n",
    "nullfmt = NullFormatter()\n",
    "\n",
    "num_images = 6\n",
    "\n",
    "f, axarr = plt.subplots(num_images, 1, figsize=(20,20))\n",
    "for idx in range(num_images):\n",
    "    image = cv2.imread('test_images/test{0}.jpg'.format(idx+1))\n",
    "    heatmap = hm.BoundingBox(image.shape)\n",
    "    \n",
    "    on_windows = fe.search_windows(image, ystart, ystop, scale, svc, X_scaler, \n",
    "                    spatial_size, hist_bins, \n",
    "                    orient, pix_per_cell, cell_per_block)\n",
    "    \n",
    "    draw_image = cv2.cvtColor(image, cv2.COLOR_BGR2RGB)\n",
    "    heatmap.add_heat(on_windows)\n",
    "    result_image = heatmap.draw_labeled_bboxes(draw_image)\n",
    "    #result_image = util.draw_boxes(draw_image, on_windows)\n",
    "               \n",
    "    axarr[idx].imshow(result_image)\n",
    "    axarr[idx].xaxis.set_major_formatter(nullfmt)\n",
    "    axarr[idx].yaxis.set_major_formatter(nullfmt)\n",
    "plt.show()"
   ]
  },
  {
   "cell_type": "markdown",
   "metadata": {},
   "source": [
    "### Video Test"
   ]
  },
  {
   "cell_type": "code",
   "execution_count": null,
   "metadata": {
    "collapsed": true
   },
   "outputs": [],
   "source": [
    "# Import everything needed to edit/save/watch video clips\n",
    "from moviepy.editor import VideoFileClip\n",
    "from IPython.display import HTML"
   ]
  },
  {
   "cell_type": "code",
   "execution_count": null,
   "metadata": {
    "collapsed": false
   },
   "outputs": [],
   "source": [
    "output_video = 'output_video.mp4'\n",
    "clip1 = VideoFileClip(\"project_video.mp4\")\n",
    "output_clip = clip1.fl_image(process_image)\n",
    "%time output_clip.write_videofile(output_video, audio=False)"
   ]
  }
 ],
 "metadata": {
  "anaconda-cloud": {},
  "kernelspec": {
   "display_name": "Python [default]",
   "language": "python",
   "name": "python3"
  },
  "language_info": {
   "codemirror_mode": {
    "name": "ipython",
    "version": 3
   },
   "file_extension": ".py",
   "mimetype": "text/x-python",
   "name": "python",
   "nbconvert_exporter": "python",
   "pygments_lexer": "ipython3",
   "version": "3.5.2"
  }
 },
 "nbformat": 4,
 "nbformat_minor": 1
}
